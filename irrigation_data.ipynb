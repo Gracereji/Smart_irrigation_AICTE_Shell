{
 "cells": [
  {
   "cell_type": "code",
   "execution_count": 19,
   "id": "b1cdbc1b",
   "metadata": {},
   "outputs": [
    {
     "name": "stdout",
     "output_type": "stream",
     "text": [
      "<class 'pandas.core.frame.DataFrame'>\n",
      "RangeIndex: 2000 entries, 0 to 1999\n",
      "Data columns (total 24 columns):\n",
      " #   Column      Non-Null Count  Dtype  \n",
      "---  ------      --------------  -----  \n",
      " 0   Unnamed: 0  2000 non-null   int64  \n",
      " 1   sensor_0    2000 non-null   float64\n",
      " 2   sensor_1    2000 non-null   float64\n",
      " 3   sensor_2    2000 non-null   float64\n",
      " 4   sensor_3    2000 non-null   float64\n",
      " 5   sensor_4    2000 non-null   float64\n",
      " 6   sensor_5    2000 non-null   float64\n",
      " 7   sensor_6    2000 non-null   float64\n",
      " 8   sensor_7    2000 non-null   float64\n",
      " 9   sensor_8    2000 non-null   float64\n",
      " 10  sensor_9    2000 non-null   float64\n",
      " 11  sensor_10   2000 non-null   float64\n",
      " 12  sensor_11   2000 non-null   float64\n",
      " 13  sensor_12   2000 non-null   float64\n",
      " 14  sensor_13   2000 non-null   float64\n",
      " 15  sensor_14   2000 non-null   float64\n",
      " 16  sensor_15   2000 non-null   float64\n",
      " 17  sensor_16   2000 non-null   float64\n",
      " 18  sensor_17   2000 non-null   float64\n",
      " 19  sensor_18   2000 non-null   float64\n",
      " 20  sensor_19   2000 non-null   float64\n",
      " 21  parcel_0    2000 non-null   int64  \n",
      " 22  parcel_1    2000 non-null   int64  \n",
      " 23  parcel_2    2000 non-null   int64  \n",
      "dtypes: float64(20), int64(4)\n",
      "memory usage: 375.1 KB\n",
      "<class 'pandas.core.frame.DataFrame'>\n",
      "RangeIndex: 2000 entries, 0 to 1999\n",
      "Data columns (total 20 columns):\n",
      " #   Column      Non-Null Count  Dtype  \n",
      "---  ------      --------------  -----  \n",
      " 0   Unnamed: 0  2000 non-null   int64  \n",
      " 1   sensor_0    2000 non-null   float64\n",
      " 2   sensor_1    2000 non-null   float64\n",
      " 3   sensor_2    2000 non-null   float64\n",
      " 4   sensor_3    2000 non-null   float64\n",
      " 5   sensor_4    2000 non-null   float64\n",
      " 6   sensor_5    2000 non-null   float64\n",
      " 7   sensor_6    2000 non-null   float64\n",
      " 8   sensor_7    2000 non-null   float64\n",
      " 9   sensor_8    2000 non-null   float64\n",
      " 10  sensor_9    2000 non-null   float64\n",
      " 11  sensor_10   2000 non-null   float64\n",
      " 12  sensor_11   2000 non-null   float64\n",
      " 13  sensor_12   2000 non-null   float64\n",
      " 14  sensor_13   2000 non-null   float64\n",
      " 15  sensor_14   2000 non-null   float64\n",
      " 16  sensor_15   2000 non-null   float64\n",
      " 17  sensor_16   2000 non-null   float64\n",
      " 18  sensor_17   2000 non-null   float64\n",
      " 19  sensor_18   2000 non-null   float64\n",
      "dtypes: float64(19), int64(1)\n",
      "memory usage: 312.6 KB\n",
      "<class 'pandas.core.frame.DataFrame'>\n",
      "RangeIndex: 2000 entries, 0 to 1999\n",
      "Data columns (total 4 columns):\n",
      " #   Column     Non-Null Count  Dtype  \n",
      "---  ------     --------------  -----  \n",
      " 0   sensor_19  2000 non-null   float64\n",
      " 1   parcel_0   2000 non-null   int64  \n",
      " 2   parcel_1   2000 non-null   int64  \n",
      " 3   parcel_2   2000 non-null   int64  \n",
      "dtypes: float64(1), int64(3)\n",
      "memory usage: 62.6 KB\n"
     ]
    },
    {
     "data": {
      "text/plain": [
       "((2000, 20), (2000, 4))"
      ]
     },
     "execution_count": 19,
     "metadata": {},
     "output_type": "execute_result"
    }
   ],
   "source": [
    "import pandas as pd\n",
    "import matplotlib.pyplot as plt\n",
    "import seaborn as sns\n",
    "from sklearn.model_selection import train_test_split\n",
    "from sklearn.ensemble import RandomForestClassifier\n",
    "from sklearn.multioutput import MultiOutputClassifier\n",
    "from sklearn.metrics import classification_report\n",
    "\n",
    "from sklearn.preprocessing import MinMaxScaler\n",
    "import joblib\n",
    "df = pd.read_csv(\"C:\\\\Users\\\\grace\\\\OneDrive\\\\Desktop\\\\smart irrigation\\\\irrigation_data.csv\")\n",
    "# first 5 rows to be printed, df.tail()\n",
    "df.head()\n",
    "df.info()\n",
    "df.describe() # Statistics of the dataset\n",
    "# STEP 2: DEFINE FEATURES AND LABELS\n",
    "# -------------------------------\n",
    "\n",
    "X = df.iloc[:, 0:20]   # This gives you columns 0 to 19 (sensor_0 to sensor_19)\n",
    "\n",
    "\n",
    "y = df.iloc[:, 20:]\n",
    "X.sample(10)\n",
    "y.sample(10)\n",
    "X.info()\n",
    "y.info()\n",
    "X\n",
    "X.shape, y.shape"
   ]
  }
 ],
 "metadata": {
  "kernelspec": {
   "display_name": "base",
   "language": "python",
   "name": "python3"
  },
  "language_info": {
   "codemirror_mode": {
    "name": "ipython",
    "version": 3
   },
   "file_extension": ".py",
   "mimetype": "text/x-python",
   "name": "python",
   "nbconvert_exporter": "python",
   "pygments_lexer": "ipython3",
   "version": "3.13.5"
  }
 },
 "nbformat": 4,
 "nbformat_minor": 5
}
